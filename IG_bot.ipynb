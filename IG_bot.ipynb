{
 "cells": [
  {
   "cell_type": "markdown",
   "metadata": {},
   "source": [
    "### Prerequisites"
   ]
  },
  {
   "cell_type": "code",
   "execution_count": 1,
   "metadata": {},
   "outputs": [],
   "source": [
    "import urllib.request\n",
    "from selenium import webdriver\n",
    "import time as time\n",
    "from tqdm.auto import tqdm\n",
    "import os\n",
    "import shutil"
   ]
  },
  {
   "cell_type": "markdown",
   "metadata": {},
   "source": [
    "### Input username and number of scrolls for scrapping "
   ]
  },
  {
   "cell_type": "code",
   "execution_count": 2,
   "metadata": {},
   "outputs": [
    {
     "name": "stdout",
     "output_type": "stream",
     "text": [
      "Enter IG username : skittles\n",
      "Enter no of scrolls (minimum = 1) [(total images = (no. of scrolls + 1)*16 approximately ] : 3\n"
     ]
    }
   ],
   "source": [
    "username = str(input(\"Enter IG username : \"))\n",
    "scrolls = int(input(\"Enter no of scrolls (minimum = 1) [(total images = (no. of scrolls + 1)*16 approximately ] : \"))"
   ]
  },
  {
   "cell_type": "markdown",
   "metadata": {},
   "source": [
    "### Defining variables to store links"
   ]
  },
  {
   "cell_type": "code",
   "execution_count": 3,
   "metadata": {},
   "outputs": [],
   "source": [
    "download_urls_img = []\n",
    "download_urls_vid_page = []\n",
    "download_urls_vid = []\n",
    "download_urls_carousel_page = []\n",
    "filename = \"\""
   ]
  },
  {
   "cell_type": "markdown",
   "metadata": {},
   "source": [
    "### Use the webdriver compatible with your browser, mine is for chrome version 83.0.\n",
    "#### Webdrivers compatible with your browser can be found at <a>https://chromedriver.chromium.org/downloads</a>"
   ]
  },
  {
   "cell_type": "code",
   "execution_count": 4,
   "metadata": {},
   "outputs": [],
   "source": [
    "browser = webdriver.Chrome(executable_path=\"webdriver/chromedriver.exe\")\n",
    "browser.get((\"https://www.instagram.com/\"+username+\"/?hl=en\"))\n",
    "time.sleep(2)"
   ]
  },
  {
   "cell_type": "markdown",
   "metadata": {},
   "source": [
    "### Getting images, videos and carousel links for given number of scrolls"
   ]
  },
  {
   "cell_type": "code",
   "execution_count": 5,
   "metadata": {},
   "outputs": [
    {
     "name": "stdout",
     "output_type": "stream",
     "text": [
      "Getting links....\n"
     ]
    },
    {
     "data": {
      "application/vnd.jupyter.widget-view+json": {
       "model_id": "bdf16ebfe1eb45248f08bd2d4bcc0dc8",
       "version_major": 2,
       "version_minor": 0
      },
      "text/plain": [
       "HBox(children=(FloatProgress(value=0.0, max=3.0), HTML(value='')))"
      ]
     },
     "metadata": {},
     "output_type": "display_data"
    },
    {
     "name": "stdout",
     "output_type": "stream",
     "text": [
      " \n"
     ]
    }
   ],
   "source": [
    "print(\"Getting links....\")\n",
    "for scroll_lim in tqdm(range(scrolls)):\n",
    "    time.sleep(3)\n",
    "    try:    \n",
    "        links = browser.find_elements_by_xpath(\"//div[@class = 'v1Nh3 kIKUG  _bz0w']\")\n",
    "        for link in range(len(links)):\n",
    "            try:\n",
    "                links[link].find_element_by_xpath(\".//div[@class = 'u7YqG']\").find_element_by_xpath(\".//span[@aria-label = 'Video']\")\n",
    "                if(links[link].find_element_by_xpath(\".//a\").get_attribute(\"href\") not in download_urls_vid_page):\n",
    "                    download_urls_vid_page.append(links[link].find_element_by_xpath(\".//a\").get_attribute(\"href\"))\n",
    "            except:\n",
    "                try:\n",
    "                    links[link].find_element_by_xpath(\".//div[@class = 'u7YqG']\").find_element_by_xpath(\".//span[@aria-label = 'Carousel']\")\n",
    "                    if(links[link].find_element_by_xpath(\".//a\").get_attribute(\"href\") not in download_urls_carousel_page):\n",
    "                        download_urls_carousel_page.append(links[link].find_element_by_xpath(\".//a\").get_attribute(\"href\"))\n",
    "                except:\n",
    "                    if(links[link].find_element_by_xpath(\".//img[@class = 'FFVAD']\").get_attribute(\"src\") not in download_urls_img):\n",
    "                        download_urls_img.append(links[link].find_element_by_xpath(\".//img[@class = 'FFVAD']\").get_attribute(\"src\"))\n",
    "        if(scrolls>1):\n",
    "            browser.execute_script(\"window.scrollTo(0, document.body.scrollHeight)\")\n",
    "            try:\n",
    "                browser.find_element_by_xpath(\"//div[@class = '_7UhW9   xLCgt       qyrsm         h_zdq uL8Hv     l4b0S    ']\").click()\n",
    "            except:\n",
    "                pass\n",
    "    except:\n",
    "        pass\n",
    "    \n",
    "time.sleep(2)"
   ]
  },
  {
   "cell_type": "markdown",
   "metadata": {},
   "source": [
    "### Decoding video links"
   ]
  },
  {
   "cell_type": "code",
   "execution_count": 6,
   "metadata": {},
   "outputs": [
    {
     "name": "stdout",
     "output_type": "stream",
     "text": [
      "Decoding video links....\n"
     ]
    },
    {
     "data": {
      "application/vnd.jupyter.widget-view+json": {
       "model_id": "68a3b7c3eaaf41548c8ac9ccb64a512d",
       "version_major": 2,
       "version_minor": 0
      },
      "text/plain": [
       "HBox(children=(FloatProgress(value=0.0, max=7.0), HTML(value='')))"
      ]
     },
     "metadata": {},
     "output_type": "display_data"
    },
    {
     "name": "stdout",
     "output_type": "stream",
     "text": [
      "\n"
     ]
    }
   ],
   "source": [
    "print(\"Decoding video links....\")\n",
    "if(len(download_urls_vid_page) == 0):\n",
    "    print(\"No videos found\")\n",
    "else:\n",
    "    for link in tqdm(range(len(download_urls_vid_page))):\n",
    "        browser.get(download_urls_vid_page[link])\n",
    "        time.sleep(2)\n",
    "        try:\n",
    "            if(browser.find_element_by_xpath(\"//video[@class = 'tWeCl']\").get_attribute(\"src\") not in download_urls_vid): \n",
    "                download_urls_vid.append(browser.find_element_by_xpath(\"//video[@class = 'tWeCl']\").get_attribute(\"src\"))\n",
    "        except:\n",
    "            pass\n",
    "        \n",
    "time.sleep(2)"
   ]
  },
  {
   "cell_type": "markdown",
   "metadata": {},
   "source": [
    "### Decoding carousel links"
   ]
  },
  {
   "cell_type": "code",
   "execution_count": 7,
   "metadata": {
    "scrolled": false
   },
   "outputs": [
    {
     "name": "stdout",
     "output_type": "stream",
     "text": [
      "Decoding carousel links....\n"
     ]
    },
    {
     "data": {
      "application/vnd.jupyter.widget-view+json": {
       "model_id": "287a2fba23df426ea8c39f3bdd876ecf",
       "version_major": 2,
       "version_minor": 0
      },
      "text/plain": [
       "HBox(children=(FloatProgress(value=0.0, max=4.0), HTML(value='')))"
      ]
     },
     "metadata": {},
     "output_type": "display_data"
    },
    {
     "name": "stdout",
     "output_type": "stream",
     "text": [
      "\n"
     ]
    }
   ],
   "source": [
    "print(\"Decoding carousel links....\")\n",
    "if(len(download_urls_carousel_page) == 0):\n",
    "    print(\"No carousels found\")\n",
    "else:\n",
    "    for link in tqdm(range(len(download_urls_carousel_page))):\n",
    "            browser.get(download_urls_carousel_page[link])\n",
    "            time.sleep(2)\n",
    "            try:\n",
    "                temp = browser.find_elements_by_xpath(\"//div[@class = 'Yi5aA ']\")\n",
    "                time.sleep(2)\n",
    "                for counter in range(len(temp)+1):\n",
    "                            try:\n",
    "                                carousel_vid = browser.find_elements_by_xpath(\"//video[@class = 'tWeCl']\")\n",
    "                                if(carousel_vid):\n",
    "                                    for vid_carousel_counter in range(len(carousel_vid)):     \n",
    "                                        if(carousel_vid[vid_carousel_counter].get_attribute(\"src\") not in download_urls_vid): \n",
    "                                            download_urls_vid.append(carousel_vid[vid_carousel_counter].get_attribute(\"src\"))\n",
    "\n",
    "                                else:\n",
    "                                    carousel_img = browser.find_elements_by_xpath(\"//img[@class = 'FFVAD']\")\n",
    "                                    for img_carousel_counter in range(len(carousel_img)):\n",
    "                                        if(carousel_img[img_carousel_counter].get_attribute(\"src\") not in download_urls_img):\n",
    "                                            download_urls_img.append(carousel_img[img_carousel_counter].get_attribute(\"src\"))\n",
    "\n",
    "                            except:\n",
    "                                pass\n",
    "\n",
    "                            try:\n",
    "                                browser.find_element_by_xpath(\"//button[@class = '  _6CZji ']\").click()\n",
    "                                time.sleep(2)\n",
    "                            except:\n",
    "                                pass\n",
    "            except:\n",
    "                pass\n",
    "\n",
    "browser.close()"
   ]
  },
  {
   "cell_type": "markdown",
   "metadata": {},
   "source": [
    "### Displaying download summary"
   ]
  },
  {
   "cell_type": "code",
   "execution_count": 8,
   "metadata": {},
   "outputs": [
    {
     "name": "stdout",
     "output_type": "stream",
     "text": [
      "Total photos to download :  46\n",
      "Total videos to download :  10\n",
      "Total posts :  56\n"
     ]
    }
   ],
   "source": [
    "print(\"Total photos to download : \", len(download_urls_img))\n",
    "print(\"Total videos to download : \", len(download_urls_vid))\n",
    "print(\"Total posts : \", len(download_urls_img) + len(download_urls_vid))"
   ]
  },
  {
   "cell_type": "markdown",
   "metadata": {},
   "source": [
    "### Creating a folder to store downloaded data under the 'Outputs' directory "
   ]
  },
  {
   "cell_type": "code",
   "execution_count": 9,
   "metadata": {},
   "outputs": [
    {
     "name": "stdout",
     "output_type": "stream",
     "text": [
      "Folder created\n"
     ]
    }
   ],
   "source": [
    "try:\n",
    "    shutil.rmtree(os.path.join(os.getcwd(), \"Outputs\", username))\n",
    "except:\n",
    "    pass\n",
    "os.mkdir(os.path.join(os.getcwd(), \"Outputs\", username))\n",
    "os.mkdir(os.path.join(os.getcwd(), \"Outputs\", username, \"Images\"))\n",
    "os.mkdir(os.path.join(os.getcwd(), \"Outputs\", username, \"Videos\"))\n",
    "\n",
    "print(\"Folder created\")"
   ]
  },
  {
   "cell_type": "markdown",
   "metadata": {},
   "source": [
    "### Downloading data"
   ]
  },
  {
   "cell_type": "code",
   "execution_count": 10,
   "metadata": {},
   "outputs": [
    {
     "name": "stdout",
     "output_type": "stream",
     "text": [
      "Downloading images....\n"
     ]
    },
    {
     "data": {
      "application/vnd.jupyter.widget-view+json": {
       "model_id": "d1e14f557f7b49dba6eda42b73e42b37",
       "version_major": 2,
       "version_minor": 0
      },
      "text/plain": [
       "HBox(children=(FloatProgress(value=0.0, max=46.0), HTML(value='')))"
      ]
     },
     "metadata": {},
     "output_type": "display_data"
    },
    {
     "name": "stdout",
     "output_type": "stream",
     "text": [
      " \n",
      "Downloading videos....\n"
     ]
    },
    {
     "data": {
      "application/vnd.jupyter.widget-view+json": {
       "model_id": "b87a60e0cdbe4d3a8f825da35ff5bd3b",
       "version_major": 2,
       "version_minor": 0
      },
      "text/plain": [
       "HBox(children=(FloatProgress(value=0.0, max=10.0), HTML(value='')))"
      ]
     },
     "metadata": {},
     "output_type": "display_data"
    },
    {
     "name": "stdout",
     "output_type": "stream",
     "text": [
      " \n"
     ]
    }
   ],
   "source": [
    "counter_img = 0\n",
    "counter_vid = 0\n",
    "print(\"Downloading images....\")\n",
    "if(len(download_urls_img) == 0):\n",
    "    print(\"No images found\")\n",
    "else:\n",
    "    for link in tqdm(download_urls_img):\n",
    "        print(\" \", end='\\r')\n",
    "        counter_img+=1\n",
    "        filename = \"Outputs/\" + username + \"/Images/image_\" + str(counter_img) + \".jpeg\"\n",
    "        try:\n",
    "            urllib.request.urlretrieve(link, filename)\n",
    "        except:\n",
    "            pass\n",
    "print(\"Downloading videos....\")\n",
    "\n",
    "if(len(download_urls_vid) == 0):\n",
    "    print(\"No videos found\")\n",
    "else:\n",
    "    for link in tqdm(download_urls_vid):\n",
    "        print(\" \", end='\\r')\n",
    "        counter_vid+=1\n",
    "        filename = \"Outputs/\" + username + \"/Videos/video_\" + str(counter_vid) + \".mp4\"\n",
    "        try:\n",
    "            urllib.request.urlretrieve(link, filename)\n",
    "        except:\n",
    "            pass"
   ]
  }
 ],
 "metadata": {
  "kernelspec": {
   "display_name": "Python 3",
   "language": "python",
   "name": "python3"
  },
  "language_info": {
   "codemirror_mode": {
    "name": "ipython",
    "version": 3
   },
   "file_extension": ".py",
   "mimetype": "text/x-python",
   "name": "python",
   "nbconvert_exporter": "python",
   "pygments_lexer": "ipython3",
   "version": "3.7.6"
  }
 },
 "nbformat": 4,
 "nbformat_minor": 4
}
